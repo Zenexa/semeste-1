{
 "cells": [
  {
   "attachments": {},
   "cell_type": "markdown",
   "metadata": {},
   "source": [
    "1.Sebuah wahana bermain 'Disney Island' akan memberikan tarif sesuai dengan tinggi dan umur anak dengan ketentuan sebagai berikut:\n",
    "Umur kurang dari 2 tahun: Tampilkan 'Dilarang masuk'\n",
    "Umur kurang dari 4 tahun: Rp 30.000. Jika tinggi anak umur 2-3 tahun melebihi 70 cm maka tarif akan bertambah 10.000\n",
    "Umur kurang dari 7 tahun: Rp 40.000. Jika tinggi anak umur 4-6 tahun melebih 120 cm maka tarif akan bertambah 15.000\n",
    "Umur kurang dari 10 tahun: Rp 50.000. Jika tinggi anak umur 8-9 tahun melebih 150 cm maka tarif akan bertambah 20.000\n",
    "Umur 10 tahun keatas: Rp 80.000\n",
    "Buatlah program untuk menampilkan tarif harga sesuai umur dan tinggi seorang anak!\n"
   ]
  },
  {
   "cell_type": "code",
   "execution_count": 1,
   "metadata": {},
   "outputs": [
    {
     "name": "stdout",
     "output_type": "stream",
     "text": [
      "total bayar kamu Rp. 40000\n"
     ]
    }
   ],
   "source": [
    "umur = int(input('Masukan umur = '))\n",
    "\n",
    "if umur <= 2 :\n",
    "    print ('dilarang masuk')\n",
    "\n",
    "elif umur <= 4 :\n",
    "    tinggi_badan = int(input('Masukan tinggi badan = '))\n",
    "    harga = 30000\n",
    "    if tinggi_badan >= 70:\n",
    "        print(\"total bayar kamu Rp.\",harga + 10000)\n",
    "    else:\n",
    "        print(\"total bayar kamu\",harga)\n",
    "\n",
    "elif umur <= 7 :\n",
    "    tinggi_badan = int(input('Masukan tinggi badan = '))\n",
    "    harga = 40000\n",
    "    if tinggi_badan >= 120:\n",
    "        print(\"total bayar kamu Rp.\",harga + 15000)\n",
    "    else:\n",
    "        print(\"total bayar kamu\",harga)\n",
    "\n",
    "elif umur <= 10 :\n",
    "    tinggi_badan = int(input('Masukan tinggi badan = '))\n",
    "    harga = 40000\n",
    "    if tinggi_badan >= 150:\n",
    "        print(\"total bayar kamu Rp.\",harga + 20000)\n",
    "    else:\n",
    "        print(\"total bayar kamu\",harga)\n",
    "\n",
    "else:\n",
    "    harga = 80000\n",
    "    print(\"total bayar kamu\",harga)"
   ]
  },
  {
   "attachments": {},
   "cell_type": "markdown",
   "metadata": {},
   "source": [
    "'''2.Terdapat sebuah jurnal yang menuliskan teorinya bahwa olahraga dapat membakar kalori yang terkandung dalam tubuh manusia. Hal tersebut berbanding lurus dengan lama waktu yang dilakukan. Berikut ini adalah beberapa teori tersebut:\n",
    "Olahraga lari membakar 60 kalori setiap 5 menit.\n",
    "Olahraga push-up membakar 200 kalori setiap 30 menit\n",
    "Olahraga plank membakar 5 kalori selama 1 menit\n",
    "Buatlah program berdasarkan uraian tersebut untuk menghitung berapa jumlah kalori yang terbakar setelah melakukan aktivitas olahraga tersebut dengan ketentuan setiap orang boleh melakukan aktivitasnya lebih dari 1 (satu).\n",
    "'''"
   ]
  },
  {
   "cell_type": "code",
   "execution_count": null,
   "metadata": {},
   "outputs": [],
   "source": [
    "print('''\n",
    "      1. push_up\n",
    "      2. lari\n",
    "      3. plank\n",
    "      4. push_up dan lari\n",
    "      5. push_up dan plank\n",
    "      6. push_up,lari, dan plank\n",
    "      7. lari dan plank \n",
    "      ''')\n",
    "\n",
    "olahraga_apa = input('olah raga apa ?')\n",
    "menit = float(input('masukan berapa menit olahraga = '))\n",
    "lari = 12\n",
    "push_up = 6.6\n",
    "plank = 5\n",
    "\n",
    "\n",
    "if olahraga_apa == '1':\n",
    "    TotalBakarKalori = push_up * menit\n",
    "    print(f'total kalori yang di dapat adalah {TotalBakarKalori} kalori')\n",
    "\n",
    "elif olahraga_apa == '2':\n",
    "    TotalBakarKalori = lari * menit\n",
    "    print(f'total kalori yang di dapat adalah {TotalBakarKalori} kalori')\n",
    "\n",
    "elif olahraga_apa == '3':\n",
    "    TotalBakarKalori = plank * menit\n",
    "    print(f'total kalori yang di dapat adalah {TotalBakarKalori} kalori')\n",
    "\n",
    "elif olahraga_apa == '4': \n",
    "    TotalBakarKalori = (push_up * menit) + (lari * menit)\n",
    "    print(f'total kalori yang di dapat adalah {TotalBakarKalori} kalori')\n",
    "\n",
    "elif olahraga_apa == '5':\n",
    "    TotalBakarKalori = (push_up * menit ) * (plank * menit)\n",
    "    print(f'total kalori yang di dapat adalah {TotalBakarKalori} kalori')\n",
    "\n",
    "elif olahraga_apa == '6':\n",
    "    TotalBakarKalori = (push_up * menit) + (plank * menit) + (lari * menit)\n",
    "    print(f'total kalori yang di dapat adalah {TotalBakarKalori} kalori') \n",
    "\n",
    "elif olahraga_apa == '7':\n",
    "    TotalBakarKalori = (lari * menit) + (plank * menit)\n",
    "    print(f'total kalori yang di dapat adalah {TotalBakarKalori} kalori')\n",
    "\n",
    "else:\n",
    "    print('masukan menu yang valid')"
   ]
  }
 ],
 "metadata": {
  "kernelspec": {
   "display_name": "Python 3",
   "language": "python",
   "name": "python3"
  },
  "language_info": {
   "codemirror_mode": {
    "name": "ipython",
    "version": 3
   },
   "file_extension": ".py",
   "mimetype": "text/x-python",
   "name": "python",
   "nbconvert_exporter": "python",
   "pygments_lexer": "ipython3",
   "version": "3.11.0"
  },
  "orig_nbformat": 4,
  "vscode": {
   "interpreter": {
    "hash": "c261aea317cc0286b3b3261fbba9abdec21eaa57589985bb7a274bf54d6cc0a7"
   }
  }
 },
 "nbformat": 4,
 "nbformat_minor": 2
}
