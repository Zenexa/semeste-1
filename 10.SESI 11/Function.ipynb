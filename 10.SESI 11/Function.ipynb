{
 "cells": [
  {
   "cell_type": "markdown",
   "metadata": {},
   "source": [
    "<h2>Pengertian</h2>\n",
    "<ol>\n",
    "    <li>Fungsi pada python adalah kumpulan perintah atau baris kode yang dikelompokkan menjadi satu kesatuan untuk kemudian bisa dipanggil atau digunakan berkali-kali.</li>\n",
    "    <li>Sebuah fungsi dapat menerima parameter, dapat mengembalikan suatu nilai, dan dapat dipanggil berkali-kali secara independen.</li>\n",
    "</ol>\n",
    "<hr>\n",
    "<h2>Keuntungan</h2>\n",
    "<ol>\n",
    "    <li>Membagi kode program menjadi bagian-bagian kecil dengan tugasnya masing-masing.</li>\n",
    "    <li>Membuat kode program menjadi lebih “reusable” dan lebih terstruktur.</li>\n",
    "</ol>\n",
    "<hr>\n",
    "<h2>Sintaks</h2>\n",
    "\n",
    "```python\n",
    "def function_name():\n",
    "    Logic Program\n",
    "```\n",
    "Cara memanggil fungsi dengan menuliskan function_name diikuti kurung buka tutup () beserta parameter jika ada\n",
    "\n",
    "```python\n",
    "    function_name()\n",
    "```\n",
    "<hr>\n",
    "Buatlah fungsi dengan nama \"helloPython\" yang berfungsi untuk mencetak \"Welcome in Python Language\" "
   ]
  },
  {
   "cell_type": "code",
   "execution_count": 1,
   "metadata": {},
   "outputs": [
    {
     "name": "stdout",
     "output_type": "stream",
     "text": [
      "Welcome in Python \n"
     ]
    }
   ],
   "source": [
    "def helloPython():\n",
    "    print(\"Welcome in Python \")\n",
    "\n",
    "helloPython()"
   ]
  },
  {
   "cell_type": "markdown",
   "metadata": {},
   "source": [
    "<h1>Fungsi dengan parameter</h1>\n",
    "Sebuah fungsi dapat menerima parameter ataupun argumen yang merupakan suatu nilai/variabel yang dilemparkan ke dalam fungsi untuk diproses lebih lanjut.\n",
    "\n",
    "<h2>Sintaks</h2>\n",
    "\n",
    "```python\n",
    "def function_name(param):\n",
    "    Logic Program\n",
    "```\n",
    "Cara memanggil fungsi dengan menuliskan function_name diikuti kurung buka tutup () beserta parameter\n",
    "\n",
    "```python\n",
    "    function_name(param)\n",
    "```\n",
    "<hr>"
   ]
  },
  {
   "cell_type": "markdown",
   "metadata": {},
   "source": [
    "Buatlah fungsi dengan nama \"fullName\" yang mempunyai parameter \"firstname\" dan \"lastname\" digunakan untuk mencetak \"firstname\" dan \"lastname\""
   ]
  },
  {
   "cell_type": "code",
   "execution_count": 3,
   "metadata": {},
   "outputs": [
    {
     "name": "stdout",
     "output_type": "stream",
     "text": [
      "Khaisa Zenuar\n"
     ]
    }
   ],
   "source": [
    "def fullName(firstname,lastname):\n",
    "    print(firstname,lastname)\n",
    "\n",
    "fullName(\"Khaisa\",\"Zenuar\")"
   ]
  },
  {
   "cell_type": "markdown",
   "metadata": {},
   "source": [
    "Parameter fungsi diperbolehkan menggunakan lebih dari 1, dimana paramater tersebut ada yang wajib harus diisi dan ada yang tidak harus diisi\n",
    "\n",
    "```python\n",
    "def function_name(param_1, param_2, param_3,....):\n",
    "    Logic Program\n",
    "```\n",
    "\n",
    "Cara memanggil fungsi dengan menuliskan function_name diikuti kurung buka tutup () beserta parameter\n",
    "\n",
    "```python\n",
    "    function_name(param_1, param_2, param_3)\n",
    "```\n",
    "<hr>\n",
    "Buatlah fungsi dengan nama maxValue yang mempunyai parameter \"val_1\",\"val_2\" dan \"val_3\" yang bertujuan untuk mencari nilai terbesar dari 3 nilai tersebut"
   ]
  },
  {
   "cell_type": "code",
   "execution_count": 47,
   "metadata": {},
   "outputs": [
    {
     "name": "stdout",
     "output_type": "stream",
     "text": [
      "4\n"
     ]
    }
   ],
   "source": [
    "def maxValue(val_1,val_2,val_3):\n",
    "    a = max(val_1,val_2,val_3)\n",
    "    print(a)\n",
    "\n",
    "input_Val1,input_Val2,input_Val3 = int(input(\"Input Val 1 = \")),int(input(\"Input Val 2 = \")),int(input(\"Input Val 3 = \"))\n",
    "maxValue(input_Val1,input_Val2,input_Val3)"
   ]
  },
  {
   "cell_type": "markdown",
   "metadata": {},
   "source": [
    "Parameter opsional digunakan pada fungsi dengan cara memberikan nilai default, artinya nilai parameter sudah diberikan terlebih dahulu tanpa dipanggil\n",
    "\n",
    "```python\n",
    "def function_name(param_1, param_2, param_3 = 'Nilai'):\n",
    "    Logic Program\n",
    "```"
   ]
  },
  {
   "cell_type": "markdown",
   "metadata": {},
   "source": [
    "Buatlah fungsi \"countCircleArea\" dengan 2 parameter yaitu \"phi\" dan \"diameter\" dimana parameter phi mempunyai nilai default 3.14"
   ]
  },
  {
   "cell_type": "code",
   "execution_count": 48,
   "metadata": {},
   "outputs": [
    {
     "name": "stdout",
     "output_type": "stream",
     "text": [
      "1256.0\n"
     ]
    }
   ],
   "source": [
    "def countCircleArea(ruas,phi = 3.14):\n",
    "    \"\"\" luas lingkaran\"\"\"\n",
    "    luas = phi*ruas*ruas\n",
    "    print(luas)\n",
    "\n",
    "ruasnya = float(input('masukan ruas lingkaranya = '))\n",
    "\n",
    "countCircleArea(ruasnya)"
   ]
  },
  {
   "cell_type": "markdown",
   "metadata": {},
   "source": [
    "Fungsi dengan 2 Parameter opsional juga dapat dilakukan pada Python. \n",
    "\n",
    "```python\n",
    "def info(suhu, daerah='Sukabumi', satuan = 'Celcius'):\n",
    "    print(f\"Suhu sekarang di {daerah} : {suhu} {satuan} \")\n",
    "```\n",
    "Adapun Cara memanggilnya\n",
    "\n",
    "```python\n",
    "    info(30)\n",
    "```"
   ]
  },
  {
   "cell_type": "code",
   "execution_count": 14,
   "metadata": {},
   "outputs": [
    {
     "name": "stdout",
     "output_type": "stream",
     "text": [
      "Suhu sekarang di Sukabumi : 30 Celcius \n"
     ]
    }
   ],
   "source": [
    "#Cobalah fungsi tersebut pada area kode disini\n",
    "def info(suhu, daerah='Sukabumi', satuan = 'Celcius'):\n",
    "    print(f\"Suhu sekarang di {daerah} : {suhu} {satuan} \")\n",
    "    \n",
    "info(30)"
   ]
  },
  {
   "cell_type": "markdown",
   "metadata": {},
   "source": [
    "<h1>Fungsi dengan Return Value</h1>\n",
    "\n",
    "Yaitu fungsi dimana akhir dari programnya adalah nilai kembalian atau nilai balik. Artinya nilai dalam fungsi dapat ditampung lagi ke variabel lain untuk digunakan operasi lebih lanjut.\n",
    "\n",
    "Buatlah fungsi dengan return value yang digunakan untuk mengecek sebuah bilangan termasuk bilangan negatif, bilangan neteral(0) dan bilangan positif"
   ]
  },
  {
   "cell_type": "code",
   "execution_count": 45,
   "metadata": {},
   "outputs": [
    {
     "name": "stdout",
     "output_type": "stream",
     "text": [
      "negatif\n"
     ]
    }
   ],
   "source": [
    "def FungsiReturn(val):\n",
    "    if val == 0:\n",
    "        return \"netral\"\n",
    "    elif val % 2 == 0:\n",
    "        return \"poisitif\"\n",
    "    else:\n",
    "        return \"negatif\"\n",
    "\n",
    "valinput = float(input('input the value ='))\n",
    "print(FungsiReturn(valinput))    \n",
    "    \n",
    "\n"
   ]
  },
  {
   "cell_type": "markdown",
   "metadata": {},
   "source": [
    "<h3>Soal Latihan</h3>\n",
    "<ol>\n",
    "    <li>Buatlah fungsi untuk menjumlahkan total nilai dari list</li>\n",
    "    <li>Buatlah fungsi untuk mencari nilai terbesar dari sekumpulan list </li>\n",
    "    <li>Buatlah fungsi untuk menjumlahkan 2 buah list </li>\n",
    "</ol>\n"
   ]
  },
  {
   "cell_type": "code",
   "execution_count": 39,
   "metadata": {},
   "outputs": [
    {
     "data": {
      "text/plain": [
       "550"
      ]
     },
     "execution_count": 39,
     "metadata": {},
     "output_type": "execute_result"
    }
   ],
   "source": [
    "#Soal 1\n",
    "\n",
    "def TotalNilaiList(listnya):\n",
    "    jumlah = sum(listnya)\n",
    "    return jumlah\n",
    "        \n",
    "yahalist = [10,20,30,40,50,60,70,80,90,100]\n",
    "\n",
    "TotalNilaiList(yahalist)\n",
    "\n",
    "    "
   ]
  },
  {
   "cell_type": "code",
   "execution_count": 41,
   "metadata": {},
   "outputs": [
    {
     "data": {
      "text/plain": [
       "100"
      ]
     },
     "execution_count": 41,
     "metadata": {},
     "output_type": "execute_result"
    }
   ],
   "source": [
    "#Soal 2\n",
    "def TotalNilaiList(listnya):\n",
    "    maxval = max(listnya)\n",
    "    return maxval\n",
    "        \n",
    "yahalist = [10,20,30,40,50,60,70,80,90,100]\n",
    "\n",
    "TotalNilaiList(yahalist)"
   ]
  },
  {
   "cell_type": "code",
   "execution_count": 42,
   "metadata": {},
   "outputs": [
    {
     "data": {
      "text/plain": [
       "2100"
      ]
     },
     "execution_count": 42,
     "metadata": {},
     "output_type": "execute_result"
    }
   ],
   "source": [
    "#Soal 3\n",
    "def TotalNilaiList(list1,list2):\n",
    "    jumlah = sum(list1) + sum(list2)\n",
    "    return jumlah\n",
    "        \n",
    "yahalist = [10,20,30,40,50,60,70,80,90,100]\n",
    "yahalist2 = [110,120,130,140,150,160,170,180,190,200]\n",
    "\n",
    "TotalNilaiList(yahalist,yahalist2)"
   ]
  }
 ],
 "metadata": {
  "kernelspec": {
   "display_name": "Python 3",
   "language": "python",
   "name": "python3"
  },
  "language_info": {
   "codemirror_mode": {
    "name": "ipython",
    "version": 3
   },
   "file_extension": ".py",
   "mimetype": "text/x-python",
   "name": "python",
   "nbconvert_exporter": "python",
   "pygments_lexer": "ipython3",
   "version": "3.10.4 (tags/v3.10.4:9d38120, Mar 23 2022, 23:13:41) [MSC v.1929 64 bit (AMD64)]"
  },
  "vscode": {
   "interpreter": {
    "hash": "79891a07e3e8e7cfe297989d49b3d14c1e1da2518cc5ec4ca0da83390e7083a4"
   }
  }
 },
 "nbformat": 4,
 "nbformat_minor": 4
}
