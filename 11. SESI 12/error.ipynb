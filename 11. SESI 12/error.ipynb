{
 "cells": [
  {
   "attachments": {},
   "cell_type": "markdown",
   "metadata": {},
   "source": [
    "Nama : Khaisa Zenuar\n",
    "Kelas : TI22C\n",
    "NIM : 20220040062"
   ]
  },
  {
   "attachments": {},
   "cell_type": "markdown",
   "metadata": {},
   "source": [
    "1.Kapan pengecualian bawaan berikut dimunculkan? Berikan contoh untuk mendukung jawaban Anda. (score = 70)\n",
    "A. ImportError\n",
    "    ImportError adalah exception yang terjadi dimana module yang di import tidak.\n",
    "    \n",
    "B. IOError\n",
    "    IOError akan muncul ketika file yang kita coba akses tidak ada di dalam system\n",
    "\n",
    "C. NameError\n",
    "    NameError adalah exception yang terjadi saat kode mengeksekusi terhadap local name atau global name yang tidak terdefinisi. Misalnya saat menjumlahkan variabel yang tidak didefinisikan, memanggil function yang tidak ada, dan lain-lain\n",
    "\n",
    "D. ZeroDivisionError\n",
    "    Exception yang terjadi saat eksekusi program menghasilkan perhitungan matematika pembagian dengan angka nol\n"
   ]
  },
  {
   "cell_type": "code",
   "execution_count": null,
   "metadata": {},
   "outputs": [],
   "source": [
    "#A. ImportError\n",
    "from module_cek_upper import yahahawahyu\n",
    "\n",
    "text = input(\"masukan text :\")\n",
    "print(\"Banyaknya text uppercase adalah\",cek_uppercase(text))\n"
   ]
  },
  {
   "cell_type": "code",
   "execution_count": null,
   "metadata": {},
   "outputs": [],
   "source": [
    "#B. IOError\n",
    "\n",
    "try:\n",
    "    file = open('sample.txt', 'r')\n",
    "    print('File found!!!')\n",
    "     \n",
    "except IOError:\n",
    "    print('File not found!!!')\n",
    "\n"
   ]
  },
  {
   "cell_type": "code",
   "execution_count": null,
   "metadata": {},
   "outputs": [],
   "source": [
    "#C.NameError\n",
    "a = 10 + yahahawahyu\n",
    "print(a)"
   ]
  },
  {
   "cell_type": "code",
   "execution_count": null,
   "metadata": {},
   "outputs": [],
   "source": [
    "#D.ZeroDivisionError\n",
    "a = 0 / 0\n",
    "print(a)\n"
   ]
  },
  {
   "attachments": {},
   "cell_type": "markdown",
   "metadata": {},
   "source": [
    "2.Jelaskan hal berikut: (score = 30)\n",
    "A. Exception Handling\n",
    "    Suatu mekanisme penanganan flow normal program karena terjadi exception dengan melanjutkan flow ke code block lainnya.\n",
    "B. Menangkap exception\n",
    "    Menangkap error yang terjadi misalnya ZeroDivisionError Dsb"
   ]
  },
  {
   "cell_type": "code",
   "execution_count": null,
   "metadata": {},
   "outputs": [],
   "source": [
    "#A. Exception Handling Example\n",
    "try:\n",
    "    a = 'abcde'\n",
    "    print(a[6])\n",
    "except:\n",
    "    print(\"tidak terdapat index 6 pada variable a\")"
   ]
  },
  {
   "cell_type": "code",
   "execution_count": null,
   "metadata": {},
   "outputs": [],
   "source": [
    "#B. Menangkap exception\n",
    "\"\"\"jika terjadi ZeroDivisionError\"\"\"\n",
    "try:\n",
    "    \"\"\"try untuk kondisi tidak error dan except untuk kondisi jika muncul error \"\"\"\n",
    "    a = int(input('masukkan nilai a '))\n",
    "    b = int(input('masukkan nilai b '))\n",
    "    print('hasil a/b adalah',a/b)\n",
    "    \n",
    "\n",
    "except ZeroDivisionError:\n",
    "    \"\"\"jika input 0 dan menghasilkan error ZeroDivisionError maka akan di atasi dengan print(\"masukan angka selain 0\")\"\"\"\n",
    "    print('masukkan angka selain 0')"
   ]
  }
 ],
 "metadata": {
  "kernelspec": {
   "display_name": "Python 3",
   "language": "python",
   "name": "python3"
  },
  "language_info": {
   "codemirror_mode": {
    "name": "ipython",
    "version": 3
   },
   "file_extension": ".py",
   "mimetype": "text/x-python",
   "name": "python",
   "nbconvert_exporter": "python",
   "pygments_lexer": "ipython3",
   "version": "3.10.4 (tags/v3.10.4:9d38120, Mar 23 2022, 23:13:41) [MSC v.1929 64 bit (AMD64)]"
  },
  "orig_nbformat": 4,
  "vscode": {
   "interpreter": {
    "hash": "79891a07e3e8e7cfe297989d49b3d14c1e1da2518cc5ec4ca0da83390e7083a4"
   }
  }
 },
 "nbformat": 4,
 "nbformat_minor": 2
}
